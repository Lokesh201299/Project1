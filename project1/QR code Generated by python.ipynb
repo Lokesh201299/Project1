{
 "cells": [
  {
   "cell_type": "code",
   "execution_count": 3,
   "id": "25d2bfbe",
   "metadata": {},
   "outputs": [
    {
     "name": "stdout",
     "output_type": "stream",
     "text": [
      "Collecting qrcode\n",
      "  Downloading qrcode-7.3.1.tar.gz (43 kB)\n",
      "Requirement already satisfied: colorama in c:\\users\\hp\\anaconda3\\lib\\site-packages (from qrcode) (0.4.4)\n",
      "Building wheels for collected packages: qrcode\n",
      "  Building wheel for qrcode (setup.py): started\n",
      "  Building wheel for qrcode (setup.py): finished with status 'done'\n",
      "  Created wheel for qrcode: filename=qrcode-7.3.1-py3-none-any.whl size=40401 sha256=4b82d102db9abacb0a301e1df379fb623007b906450891ec36e32d90cd82678e\n",
      "  Stored in directory: c:\\users\\hp\\appdata\\local\\pip\\cache\\wheels\\93\\54\\16\\55cec87f8d902ed84b94ab8fdb7e89ae1158c06e130bc83b03\n",
      "Successfully built qrcode\n",
      "Installing collected packages: qrcode\n",
      "Successfully installed qrcode-7.3.1\n",
      "Note: you may need to restart the kernel to use updated packages.\n"
     ]
    }
   ],
   "source": [
    "pip install qrcode"
   ]
  },
  {
   "cell_type": "code",
   "execution_count": 14,
   "id": "2f6e4335",
   "metadata": {},
   "outputs": [],
   "source": [
    "import qrcode"
   ]
  },
  {
   "cell_type": "code",
   "execution_count": 15,
   "id": "cb6879a8",
   "metadata": {},
   "outputs": [],
   "source": [
    "from PIL import Image"
   ]
  },
  {
   "cell_type": "code",
   "execution_count": 16,
   "id": "5a5bbbd0",
   "metadata": {},
   "outputs": [],
   "source": [
    "qr=qrcode.QRCode(version=1,error_correction=qrcode.constants.ERROR_CORRECT_H,box_size=10,border=4)"
   ]
  },
  {
   "cell_type": "code",
   "execution_count": 17,
   "id": "abdf97c5",
   "metadata": {},
   "outputs": [],
   "source": [
    "qr.add_data(\"https://www.linkedin.com/in/lokesh-ledange-132769209\")"
   ]
  },
  {
   "cell_type": "code",
   "execution_count": 18,
   "id": "7c3e6f67",
   "metadata": {},
   "outputs": [],
   "source": [
    "qr.make(fit=True)"
   ]
  },
  {
   "cell_type": "code",
   "execution_count": 19,
   "id": "664c3c42",
   "metadata": {},
   "outputs": [],
   "source": [
    "img=qr.make_image(fill_color=\"red\",back_color=\"white\")"
   ]
  },
  {
   "cell_type": "code",
   "execution_count": 20,
   "id": "2f1cfb99",
   "metadata": {},
   "outputs": [],
   "source": [
    "img.save(\"wscube_web.png\")"
   ]
  },
  {
   "cell_type": "code",
   "execution_count": null,
   "id": "d3dc2a62",
   "metadata": {},
   "outputs": [],
   "source": []
  }
 ],
 "metadata": {
  "kernelspec": {
   "display_name": "Python 3 (ipykernel)",
   "language": "python",
   "name": "python3"
  },
  "language_info": {
   "codemirror_mode": {
    "name": "ipython",
    "version": 3
   },
   "file_extension": ".py",
   "mimetype": "text/x-python",
   "name": "python",
   "nbconvert_exporter": "python",
   "pygments_lexer": "ipython3",
   "version": "3.9.7"
  }
 },
 "nbformat": 4,
 "nbformat_minor": 5
}
